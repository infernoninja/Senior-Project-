{
 "cells": [
  {
   "cell_type": "code",
   "execution_count": 1,
   "metadata": {},
   "outputs": [],
   "source": [
    "#imports\n",
    "#Main Library (Actual Neural Network Part)\n",
    "import tensorflow as tf\n",
    "from tensorflow import keras\n",
    "from keras import datasets, layers, models\n",
    "import neural_structured_learning as nsl\n",
    "\n",
    "# #Helper Libraries (in order to interpret and view the data)\n",
    "import matplotlib.pyplot as plt\n",
    "import numpy as np"
   ]
  },
  {
   "cell_type": "code",
   "execution_count": 2,
   "metadata": {},
   "outputs": [
    {
     "name": "stdout",
     "output_type": "stream",
     "text": [
      "True\n"
     ]
    }
   ],
   "source": [
    "#Prints if a GPU is detected by the TensorFlow system\n",
    "print(len(tf.config.list_physical_devices('GPU')) > 0)"
   ]
  },
  {
   "cell_type": "code",
   "execution_count": 3,
   "metadata": {},
   "outputs": [],
   "source": [
    "#importing the MNIST dataset from tensorflow\n",
    "from tensorflow.keras.datasets import mnist \n",
    "(X_train, Y_train), (X_test, Y_test) = mnist.load_data()"
   ]
  },
  {
   "cell_type": "code",
   "execution_count": 4,
   "metadata": {},
   "outputs": [
    {
     "name": "stdout",
     "output_type": "stream",
     "text": [
      "[3]\n",
      "[2]\n",
      "[1]\n",
      "[18]\n",
      "[4]\n",
      "[8]\n",
      "[11]\n",
      "[0]\n",
      "[61]\n",
      "[7]\n"
     ]
    },
    {
     "data": {
      "image/png": "[encoded data removed]",
      "text/plain": [
       "<Figure size 640x480 with 10 Axes>"
      ]
     },
     "metadata": {},
     "output_type": "display_data"
    }
   ],
   "source": [
    "#validating the data (making sure this is the data I want)\n",
    "fig, ax = plt.subplots(2,5)\n",
    "ax = ax.flatten()\n",
    "for i in range(10):\n",
    "    im_idx = np.argwhere(Y_test == i)[0]\n",
    "    print(im_idx)\n",
    "    plottable_image = np.reshape(X_test[im_idx], (28, 28))\n",
    "    ax[i].imshow(plottable_image, cmap='gray_r')"
   ]
  },
  {
   "cell_type": "code",
   "execution_count": 5,
   "metadata": {},
   "outputs": [
    {
     "name": "stdout",
     "output_type": "stream",
     "text": [
      "[[  0   0   0   0   0   0   0   0   0   0   0   0   0   0   0   0   0   0\n",
      "    0   0   0   0   0   0   0   0   0   0]\n",
      " [  0   0   0   0   0   0   0   0   0   0   0   0   0   0   0   0   0   0\n",
      "    0   0   0   0   0   0   0   0   0   0]\n",
      " [  0   0   0   0   0   0   0   0   0   0   0   0   0   0   0   0   0   0\n",
      "    0   0   0   0   0   0   0   0   0   0]\n",
      " [  0   0   0   0   0   0   0   0   0   0   0   0   0   0   0   0   0   0\n",
      "    0   0   0   0   0   0   0   0   0   0]\n",
      " [  0   0   0   0   0   0   0   0   0   0   0   0   0   0   0   0   0   0\n",
      "    0   0   0   0   0   0   0   0   0   0]\n",
      " [  0   0   0   0   0   0   0   0   0   0   0   0   3  18  18  18 126 136\n",
      "  175  26 166 255 247 127   0   0   0   0]\n",
      " [  0   0   0   0   0   0   0   0  30  36  94 154 170 253 253 253 253 253\n",
      "  225 172 253 242 195  64   0   0   0   0]\n",
      " [  0   0   0   0   0   0   0  49 238 253 253 253 253 253 253 253 253 251\n",
      "   93  82  82  56  39   0   0   0   0   0]\n",
      " [  0   0   0   0   0   0   0  18 219 253 253 253 253 253 198 182 247 241\n",
      "    0   0   0   0   0   0   0   0   0   0]\n",
      " [  0   0   0   0   0   0   0   0  80 156 107 253 253 205  11   0  43 154\n",
      "    0   0   0   0   0   0   0   0   0   0]\n",
      " [  0   0   0   0   0   0   0   0   0  14   1 154 253  90   0   0   0   0\n",
      "    0   0   0   0   0   0   0   0   0   0]\n",
      " [  0   0   0   0   0   0   0   0   0   0   0 139 253 190   2   0   0   0\n",
      "    0   0   0   0   0   0   0   0   0   0]\n",
      " [  0   0   0   0   0   0   0   0   0   0   0  11 190 253  70   0   0   0\n",
      "    0   0   0   0   0   0   0   0   0   0]\n",
      " [  0   0   0   0   0   0   0   0   0   0   0   0  35 241 225 160 108   1\n",
      "    0   0   0   0   0   0   0   0   0   0]\n",
      " [  0   0   0   0   0   0   0   0   0   0   0   0   0  81 240 253 253 119\n",
      "   25   0   0   0   0   0   0   0   0   0]\n",
      " [  0   0   0   0   0   0   0   0   0   0   0   0   0   0  45 186 253 253\n",
      "  150  27   0   0   0   0   0   0   0   0]\n",
      " [  0   0   0   0   0   0   0   0   0   0   0   0   0   0   0  16  93 252\n",
      "  253 187   0   0   0   0   0   0   0   0]\n",
      " [  0   0   0   0   0   0   0   0   0   0   0   0   0   0   0   0   0 249\n",
      "  253 249  64   0   0   0   0   0   0   0]\n",
      " [  0   0   0   0   0   0   0   0   0   0   0   0   0   0  46 130 183 253\n",
      "  253 207   2   0   0   0   0   0   0   0]\n",
      " [  0   0   0   0   0   0   0   0   0   0   0   0  39 148 229 253 253 253\n",
      "  250 182   0   0   0   0   0   0   0   0]\n",
      " [  0   0   0   0   0   0   0   0   0   0  24 114 221 253 253 253 253 201\n",
      "   78   0   0   0   0   0   0   0   0   0]\n",
      " [  0   0   0   0   0   0   0   0  23  66 213 253 253 253 253 198  81   2\n",
      "    0   0   0   0   0   0   0   0   0   0]\n",
      " [  0   0   0   0   0   0  18 171 219 253 253 253 253 195  80   9   0   0\n",
      "    0   0   0   0   0   0   0   0   0   0]\n",
      " [  0   0   0   0  55 172 226 253 253 253 253 244 133  11   0   0   0   0\n",
      "    0   0   0   0   0   0   0   0   0   0]\n",
      " [  0   0   0   0 136 253 253 253 212 135 132  16   0   0   0   0   0   0\n",
      "    0   0   0   0   0   0   0   0   0   0]\n",
      " [  0   0   0   0   0   0   0   0   0   0   0   0   0   0   0   0   0   0\n",
      "    0   0   0   0   0   0   0   0   0   0]\n",
      " [  0   0   0   0   0   0   0   0   0   0   0   0   0   0   0   0   0   0\n",
      "    0   0   0   0   0   0   0   0   0   0]\n",
      " [  0   0   0   0   0   0   0   0   0   0   0   0   0   0   0   0   0   0\n",
      "    0   0   0   0   0   0   0   0   0   0]]\n"
     ]
    }
   ],
   "source": [
    "#checking the format of the data because I want the data to be scaled from 0 to 1\n",
    "print(X_train[0])"
   ]
  },
  {
   "cell_type": "code",
   "execution_count": 6,
   "metadata": {},
   "outputs": [],
   "source": [
    "#scaling the data from 0 to 1 as float (decimal) numbers\n",
    "X_train, X_test = X_train / 255.0, X_test / 255.0"
   ]
  },
  {
   "cell_type": "code",
   "execution_count": 7,
   "metadata": {},
   "outputs": [],
   "source": [
    "#creating the model - Sequential \n",
    "model = models.Sequential()\n",
    "#first conv. layer and pooling layer\n",
    "model.add(layers.Conv2D(4, (3, 3), activation='relu', input_shape=(28, 28, 1)))\n",
    "model.add(layers.MaxPooling2D((2, 2)))\n",
    "#second conv. layer and pooling layer\n",
    "model.add(layers.Conv2D(16, (3, 3), activation='relu'))\n",
    "model.add(layers.MaxPooling2D((2, 2)))\n",
    "#last conv. layer\n",
    "model.add(layers.Conv2D(32, (3, 3), activation='relu'))"
   ]
  },
  {
   "cell_type": "code",
   "execution_count": 8,
   "metadata": {},
   "outputs": [
    {
     "name": "stdout",
     "output_type": "stream",
     "text": [
      "Model: \"sequential\"\n",
      "_________________________________________________________________\n",
      " Layer (type)                Output Shape              Param #   \n",
      "=================================================================\n",
      " conv2d (Conv2D)             (None, 26, 26, 4)         40        \n",
      "                                                                 \n",
      " max_pooling2d (MaxPooling2D  (None, 13, 13, 4)        0         \n",
      " )                                                               \n",
      "                                                                 \n",
      " conv2d_1 (Conv2D)           (None, 11, 11, 16)        592       \n",
      "                                                                 \n",
      " max_pooling2d_1 (MaxPooling  (None, 5, 5, 16)         0         \n",
      " 2D)                                                             \n",
      "                                                                 \n",
      " conv2d_2 (Conv2D)           (None, 3, 3, 32)          4640      \n",
      "                                                                 \n",
      "=================================================================\n",
      "Total params: 5,272\n",
      "Trainable params: 5,272\n",
      "Non-trainable params: 0\n",
      "_________________________________________________________________\n"
     ]
    }
   ],
   "source": [
    "#checking the output shape of the last conv. layer, so I can set the last Dense layer correctly \n",
    "model.summary()"
   ]
  },
  {
   "cell_type": "code",
   "execution_count": 9,
   "metadata": {},
   "outputs": [],
   "source": [
    "#Flattening layer will create vectors in order for the neural netowrk to actually make predictions\n",
    "model.add(layers.Flatten())\n",
    "#adding the last dense layer to allow the neural network to classify the images\n",
    "model.add(layers.Dense(32, activation = 'relu'))\n",
    "#classification layer\n",
    "model.add(layers.Dense(10, activation = \"softmax\"))"
   ]
  },
  {
   "cell_type": "code",
   "execution_count": 10,
   "metadata": {},
   "outputs": [
    {
     "name": "stdout",
     "output_type": "stream",
     "text": [
      "Model: \"sequential\"\n",
      "_________________________________________________________________\n",
      " Layer (type)                Output Shape              Param #   \n",
      "=================================================================\n",
      " conv2d (Conv2D)             (None, 26, 26, 4)         40        \n",
      "                                                                 \n",
      " max_pooling2d (MaxPooling2D  (None, 13, 13, 4)        0         \n",
      " )                                                               \n",
      "                                                                 \n",
      " conv2d_1 (Conv2D)           (None, 11, 11, 16)        592       \n",
      "                                                                 \n",
      " max_pooling2d_1 (MaxPooling  (None, 5, 5, 16)         0         \n",
      " 2D)                                                             \n",
      "                                                                 \n",
      " conv2d_2 (Conv2D)           (None, 3, 3, 32)          4640      \n",
      "                                                                 \n",
      " flatten (Flatten)           (None, 288)               0         \n",
      "                                                                 \n",
      " dense (Dense)               (None, 32)                9248      \n",
      "                                                                 \n",
      " dense_1 (Dense)             (None, 10)                330       \n",
      "                                                                 \n",
      "=================================================================\n",
      "Total params: 14,850\n",
      "Trainable params: 14,850\n",
      "Non-trainable params: 0\n",
      "_________________________________________________________________\n"
     ]
    }
   ],
   "source": [
    "#confirming that my model is correct\n",
    "model.summary()"
   ]
  },
  {
   "cell_type": "code",
   "execution_count": 11,
   "metadata": {},
   "outputs": [],
   "source": [
    "#loading the model\n",
    "base_model = tf.keras.models.load_model('complete_saved_mnist_model')"
   ]
  },
  {
   "cell_type": "code",
   "execution_count": 12,
   "metadata": {},
   "outputs": [
    {
     "name": "stdout",
     "output_type": "stream",
     "text": [
      "Model: \"sequential_2\"\n",
      "_________________________________________________________________\n",
      " Layer (type)                Output Shape              Param #   \n",
      "=================================================================\n",
      " conv2d_6 (Conv2D)           (None, 26, 26, 4)         40        \n",
      "                                                                 \n",
      " max_pooling2d_4 (MaxPooling  (None, 13, 13, 4)        0         \n",
      " 2D)                                                             \n",
      "                                                                 \n",
      " conv2d_7 (Conv2D)           (None, 11, 11, 16)        592       \n",
      "                                                                 \n",
      " max_pooling2d_5 (MaxPooling  (None, 5, 5, 16)         0         \n",
      " 2D)                                                             \n",
      "                                                                 \n",
      " conv2d_8 (Conv2D)           (None, 3, 3, 32)          4640      \n",
      "                                                                 \n",
      " flatten_2 (Flatten)         (None, 288)               0         \n",
      "                                                                 \n",
      " dense_4 (Dense)             (None, 32)                9248      \n",
      "                                                                 \n",
      " dense_5 (Dense)             (None, 10)                330       \n",
      "                                                                 \n",
      "=================================================================\n",
      "Total params: 14,850\n",
      "Trainable params: 14,850\n",
      "Non-trainable params: 0\n",
      "_________________________________________________________________\n"
     ]
    }
   ],
   "source": [
    "#checking if the model is valid and loaded\n",
    "base_model.summary()"
   ]
  },
  {
   "cell_type": "code",
   "execution_count": 13,
   "metadata": {},
   "outputs": [],
   "source": [
    "adv_config = nsl.configs.make_adv_reg_config(multiplier=0.2, adv_step_size=0.05)\n",
    "adv_model = nsl.keras.AdversarialRegularization(model, adv_config = adv_config)"
   ]
  },
  {
   "cell_type": "code",
   "execution_count": 14,
   "metadata": {},
   "outputs": [],
   "source": [
    "#compiler which configures the model\n",
    "adv_model.compile(optimizer='adam',\n",
    "              loss = tf.keras.losses.SparseCategoricalCrossentropy(),\n",
    "              metrics = ['accuracy'])"
   ]
  },
  {
   "cell_type": "code",
   "execution_count": 15,
   "metadata": {},
   "outputs": [
    {
     "name": "stdout",
     "output_type": "stream",
     "text": [
      "Epoch 1/20\n",
      "WARNING:tensorflow:AutoGraph could not transform <bound method Socket.send of <zmq.Socket(zmq.PUSH) at 0x21e3d474e80>> and will run it as-is.\n",
      "Please report this to the TensorFlow team. When filing the bug, set the verbosity to 10 (on Linux, `export AUTOGRAPH_VERBOSITY=10`) and attach the full output.\n",
      "Cause: module, class, method, function, traceback, frame, or code object was expected, got cython_function_or_method\n",
      "To silence this warning, decorate the function with @tf.autograph.experimental.do_not_convert\n"
     ]
    },
    {
     "name": "stderr",
     "output_type": "stream",
     "text": [
      "WARNING:absl:Cannot perturb non-Tensor input: dict_keys(['label'])\n",
      "WARNING:tensorflow:AutoGraph could not transform <bound method Socket.send of <zmq.Socket(zmq.PUSH) at 0x21e3d474e80>> and will run it as-is.\n",
      "Please report this to the TensorFlow team. When filing the bug, set the verbosity to 10 (on Linux, `export AUTOGRAPH_VERBOSITY=10`) and attach the full output.\n",
      "Cause: module, class, method, function, traceback, frame, or code object was expected, got cython_function_or_method\n",
      "To silence this warning, decorate the function with @tf.autograph.experimental.do_not_convert\n"
     ]
    },
    {
     "name": "stdout",
     "output_type": "stream",
     "text": [
      "WARNING: AutoGraph could not transform <bound method Socket.send of <zmq.Socket(zmq.PUSH) at 0x21e3d474e80>> and will run it as-is.\n",
      "Please report this to the TensorFlow team. When filing the bug, set the verbosity to 10 (on Linux, `export AUTOGRAPH_VERBOSITY=10`) and attach the full output.\n",
      "Cause: module, class, method, function, traceback, frame, or code object was expected, got cython_function_or_method\n",
      "To silence this warning, decorate the function with @tf.autograph.experimental.do_not_convert\n",
      "6000/6000 [==============================] - 106s 14ms/step - loss: 0.2189 - sparse_categorical_crossentropy: 0.1794 - sparse_categorical_accuracy: 0.9438 - scaled_adversarial_loss: 0.0395\n",
      "Epoch 2/20\n",
      "6000/6000 [==============================] - 91s 15ms/step - loss: 0.0788 - sparse_categorical_crossentropy: 0.0636 - sparse_categorical_accuracy: 0.9801 - scaled_adversarial_loss: 0.0152\n",
      "Epoch 3/20\n",
      "6000/6000 [==============================] - 88s 15ms/step - loss: 0.0578 - sparse_categorical_crossentropy: 0.0464 - sparse_categorical_accuracy: 0.9850 - scaled_adversarial_loss: 0.0114\n",
      "Epoch 4/20\n",
      "6000/6000 [==============================] - 91s 15ms/step - loss: 0.0467 - sparse_categorical_crossentropy: 0.0373 - sparse_categorical_accuracy: 0.9880 - scaled_adversarial_loss: 0.0094\n",
      "Epoch 5/20\n",
      "6000/6000 [==============================] - 87s 15ms/step - loss: 0.0401 - sparse_categorical_crossentropy: 0.0319 - sparse_categorical_accuracy: 0.9898 - scaled_adversarial_loss: 0.0082\n",
      "Epoch 6/20\n",
      "6000/6000 [==============================] - 65s 11ms/step - loss: 0.0350 - sparse_categorical_crossentropy: 0.0277 - sparse_categorical_accuracy: 0.9915 - scaled_adversarial_loss: 0.0073\n",
      "Epoch 7/20\n",
      "6000/6000 [==============================] - 83s 14ms/step - loss: 0.0309 - sparse_categorical_crossentropy: 0.0243 - sparse_categorical_accuracy: 0.9916 - scaled_adversarial_loss: 0.0066\n",
      "Epoch 8/20\n",
      "6000/6000 [==============================] - 93s 15ms/step - loss: 0.0283 - sparse_categorical_crossentropy: 0.0222 - sparse_categorical_accuracy: 0.9929 - scaled_adversarial_loss: 0.0061\n",
      "Epoch 9/20\n",
      "6000/6000 [==============================] - 92s 15ms/step - loss: 0.0256 - sparse_categorical_crossentropy: 0.0200 - sparse_categorical_accuracy: 0.9935 - scaled_adversarial_loss: 0.0056\n",
      "Epoch 10/20\n",
      "6000/6000 [==============================] - 91s 15ms/step - loss: 0.0226 - sparse_categorical_crossentropy: 0.0175 - sparse_categorical_accuracy: 0.9937 - scaled_adversarial_loss: 0.0051\n",
      "Epoch 11/20\n",
      "6000/6000 [==============================] - 88s 15ms/step - loss: 0.0211 - sparse_categorical_crossentropy: 0.0162 - sparse_categorical_accuracy: 0.9948 - scaled_adversarial_loss: 0.0048\n",
      "Epoch 12/20\n",
      "6000/6000 [==============================] - 87s 14ms/step - loss: 0.0206 - sparse_categorical_crossentropy: 0.0158 - sparse_categorical_accuracy: 0.9948 - scaled_adversarial_loss: 0.0048\n",
      "Epoch 13/20\n",
      "6000/6000 [==============================] - 98s 16ms/step - loss: 0.0188 - sparse_categorical_crossentropy: 0.0144 - sparse_categorical_accuracy: 0.9953 - scaled_adversarial_loss: 0.0044\n",
      "Epoch 14/20\n",
      "6000/6000 [==============================] - 87s 14ms/step - loss: 0.0172 - sparse_categorical_crossentropy: 0.0131 - sparse_categorical_accuracy: 0.9959 - scaled_adversarial_loss: 0.0041\n",
      "Epoch 15/20\n",
      "6000/6000 [==============================] - 76s 13ms/step - loss: 0.0174 - sparse_categorical_crossentropy: 0.0132 - sparse_categorical_accuracy: 0.9956 - scaled_adversarial_loss: 0.0042\n",
      "Epoch 16/20\n",
      "6000/6000 [==============================] - 83s 14ms/step - loss: 0.0162 - sparse_categorical_crossentropy: 0.0123 - sparse_categorical_accuracy: 0.9961 - scaled_adversarial_loss: 0.0039\n",
      "Epoch 17/20\n",
      "6000/6000 [==============================] - 91s 15ms/step - loss: 0.0146 - sparse_categorical_crossentropy: 0.0110 - sparse_categorical_accuracy: 0.9965 - scaled_adversarial_loss: 0.0037\n",
      "Epoch 18/20\n",
      "6000/6000 [==============================] - 91s 15ms/step - loss: 0.0138 - sparse_categorical_crossentropy: 0.0103 - sparse_categorical_accuracy: 0.9965 - scaled_adversarial_loss: 0.0035\n",
      "Epoch 19/20\n",
      "6000/6000 [==============================] - 94s 16ms/step - loss: 0.0140 - sparse_categorical_crossentropy: 0.0104 - sparse_categorical_accuracy: 0.9966 - scaled_adversarial_loss: 0.0035\n",
      "Epoch 20/20\n",
      "6000/6000 [==============================] - 85s 14ms/step - loss: 0.0133 - sparse_categorical_crossentropy: 0.0099 - sparse_categorical_accuracy: 0.9968 - scaled_adversarial_loss: 0.0034\n"
     ]
    }
   ],
   "source": [
    "#training the model\n",
    "history = adv_model.fit({'feature': X_train, 'label': Y_train}, batch_size = 10, epochs = 20, verbose = 1,\n",
    "                    shuffle = True)"
   ]
  },
  {
   "cell_type": "code",
   "execution_count": 16,
   "metadata": {},
   "outputs": [
    {
     "name": "stdout",
     "output_type": "stream",
     "text": [
      "313/313 [==============================] - 5s 15ms/step - loss: 0.0736 - sparse_categorical_crossentropy: 0.0580 - sparse_categorical_accuracy: 0.9877 - scaled_adversarial_loss: 0.0157\n"
     ]
    },
    {
     "data": {
      "text/plain": [
       "[0.07364562153816223,\n",
       " 0.057960350066423416,\n",
       " 0.9876999855041504,\n",
       " 0.01568523980677128]"
      ]
     },
     "execution_count": 16,
     "metadata": {},
     "output_type": "execute_result"
    }
   ],
   "source": [
    "#verifying that the this is a completely untrained neural network\n",
    "adv_model.evaluate({'feature': X_test, 'label': Y_test})"
   ]
  },
  {
   "cell_type": "code",
   "execution_count": 26,
   "metadata": {},
   "outputs": [
    {
     "name": "stdout",
     "output_type": "stream",
     "text": [
      "313/313 [==============================] - 3s 8ms/step - loss: 0.0581 - accuracy: 0.9877\n"
     ]
    },
    {
     "data": {
      "text/plain": [
       "[0.05805298313498497, 0.9876999855041504]"
      ]
     },
     "execution_count": 26,
     "metadata": {},
     "output_type": "execute_result"
    }
   ],
   "source": [
    "model.evaluate(X_test, Y_test)"
   ]
  },
  {
   "cell_type": "code",
   "execution_count": 31,
   "metadata": {},
   "outputs": [],
   "source": [
    "#Creating the adversarial attack for adversarial training\n",
    "loss_object = tf.keras.losses.SparseCategoricalCrossentropy()\n",
    "\n",
    "def create_adv(input_image, input_label, model_type = \"adv_model\"):\n",
    "  with tf.GradientTape() as tape:\n",
    "    tape.watch(input_image)\n",
    "    if(model_type == \"model\"):\n",
    "      prediction = base_model(input_image)\n",
    "    else:\n",
    "      prediction = model(input_image)\n",
    "    loss = loss_object(input_label, prediction)\n",
    "\n",
    "  gradient = tape.gradient(loss, input_image)\n",
    "  signed_grad = tf.sign(gradient)\n",
    "  return signed_grad\n",
    "\n",
    "def fgsm(input_image, input_label, eps=0.25, model_type = \"adv_model\"):\n",
    "  perturbation = create_adv(input_image, input_label, model_type)\n",
    "  adv_image = input_image + perturbation * eps\n",
    "  adv_image = tf.clip_by_value(adv_image, 0, 1)\n",
    "\n",
    "  return adv_image\n",
    "\n",
    "def pgd(input_image, input_label, num_steps=100, eps=0.25, alpha=0.01, model_type = \"adv_model\"):\n",
    "  adv_image = input_image\n",
    "  for i in range(num_steps):\n",
    "    adv_image = fgsm(adv_image, input_label, alpha, model_type)\n",
    "    perturbation = adv_image - input_image\n",
    "    perturbation = tf.clip_by_value(perturbation, -eps, eps)\n",
    "    adv_image = input_image + perturbation\n",
    "  \n",
    "  return adv_image\n"
   ]
  },
  {
   "cell_type": "code",
   "execution_count": 1,
   "metadata": {},
   "outputs": [
    {
     "ename": "NameError",
     "evalue": "name 'fgsm' is not defined",
     "output_type": "error",
     "traceback": [
      "\u001b[1;31m---------------------------------------------------------------------------\u001b[0m",
      "\u001b[1;31mNameError\u001b[0m                                 Traceback (most recent call last)",
      "Cell \u001b[1;32mIn[1], line 1\u001b[0m\n\u001b[1;32m----> 1\u001b[0m adv_x \u001b[39m=\u001b[39m fgsm(tf\u001b[39m.\u001b[39mconvert_to_tensor(X_test), Y_test)\n\u001b[0;32m      2\u001b[0m adv_model\u001b[39m.\u001b[39mevaluate({\u001b[39m'\u001b[39m\u001b[39mfeature\u001b[39m\u001b[39m'\u001b[39m: adv_x, \u001b[39m'\u001b[39m\u001b[39mlabel\u001b[39m\u001b[39m'\u001b[39m: Y_test})\n",
      "\u001b[1;31mNameError\u001b[0m: name 'fgsm' is not defined"
     ]
    }
   ],
   "source": [
    "adv_x = fgsm(tf.convert_to_tensor(X_test), Y_test)\n",
    "adv_model.evaluate({'feature': adv_x, 'label': Y_test})"
   ]
  },
  {
   "cell_type": "code",
   "execution_count": 38,
   "metadata": {},
   "outputs": [
    {
     "name": "stdout",
     "output_type": "stream",
     "text": [
      "313/313 [==============================] - 3s 9ms/step - loss: 33.1288 - accuracy: 0.0070\n"
     ]
    },
    {
     "data": {
      "text/plain": [
       "[33.12879943847656, 0.007000000216066837]"
      ]
     },
     "execution_count": 38,
     "metadata": {},
     "output_type": "execute_result"
    }
   ],
   "source": [
    "model.evaluate(x = adv_x, y =  Y_test)"
   ]
  },
  {
   "cell_type": "code",
   "execution_count": 37,
   "metadata": {},
   "outputs": [
    {
     "name": "stdout",
     "output_type": "stream",
     "text": [
      "INFO:tensorflow:Assets written to: complete_saved_adv_mnist_model\\assets\n"
     ]
    },
    {
     "name": "stderr",
     "output_type": "stream",
     "text": [
      "INFO:tensorflow:Assets written to: complete_saved_adv_mnist_model\\assets\n"
     ]
    }
   ],
   "source": [
    "#saving the model so I don't have to keep training the network\n",
    "adv_model.save('complete_saved_adv_mnist_model')"
   ]
  },
  {
   "cell_type": "code",
   "execution_count": 35,
   "metadata": {},
   "outputs": [
    {
     "name": "stdout",
     "output_type": "stream",
     "text": [
      "3\n"
     ]
    },
    {
     "data": {
      "text/plain": [
       "<matplotlib.image.AxesImage at 0x21f6e186d00>"
      ]
     },
     "execution_count": 35,
     "metadata": {},
     "output_type": "execute_result"
    },
    {
     "data": {
      "image/png": "[encoded data removed]",
      "text/plain": [
       "<Figure size 640x480 with 1 Axes>"
      ]
     },
     "metadata": {},
     "output_type": "display_data"
    }
   ],
   "source": [
    "#shows the benign image\n",
    "#allows me to test specific images\n",
    "testing_index = 4983\n",
    "print(Y_test[testing_index])\n",
    "plottable_image = np.reshape(X_test[testing_index], (28, 28))\n",
    "plt.imshow(plottable_image, cmap='gray_r')"
   ]
  },
  {
   "cell_type": "code",
   "execution_count": 36,
   "metadata": {},
   "outputs": [
    {
     "data": {
      "text/plain": [
       "<matplotlib.image.AxesImage at 0x21f6e365790>"
      ]
     },
     "execution_count": 36,
     "metadata": {},
     "output_type": "execute_result"
    },
    {
     "data": {
      "image/png": "[encoded data removed]",
      "text/plain": [
       "<Figure size 640x480 with 1 Axes>"
      ]
     },
     "metadata": {},
     "output_type": "display_data"
    }
   ],
   "source": [
    "#shows the malignant (pgd) image\n",
    "plt.figure()\n",
    "plt.imshow(adv_x[testing_index]*0.5+0.5, cmap = \"gray_r\")"
   ]
  },
  {
   "cell_type": "code",
   "execution_count": null,
   "metadata": {},
   "outputs": [
    {
     "data": {
      "text/plain": [
       "array([[5.8694376e-11, 8.7084807e-08, 5.2313806e-07, 9.3052899e-03,\n",
       "        8.2476392e-05, 3.5935179e-03, 3.5809316e-09, 1.7957740e-04,\n",
       "        1.7894299e-03, 9.8504907e-01]], dtype=float32)"
      ]
     },
     "execution_count": 23,
     "metadata": {},
     "output_type": "execute_result"
    }
   ],
   "source": [
    "base_model.predict(np.expand_dims(adv_x[testing_index], axis = 0))"
   ]
  },
  {
   "cell_type": "code",
   "execution_count": null,
   "metadata": {},
   "outputs": [],
   "source": [
    "model.set_weights(adv_model.get_weights())"
   ]
  },
  {
   "cell_type": "code",
   "execution_count": null,
   "metadata": {},
   "outputs": [
    {
     "data": {
      "text/plain": [
       "array([[1.84473986e-12, 1.04121423e-08, 1.03669656e-07, 9.99887109e-01,\n",
       "        4.36470874e-13, 2.04247872e-08, 4.22120834e-13, 6.11936835e-10,\n",
       "        1.12810390e-04, 1.38713019e-09]], dtype=float32)"
      ]
     },
     "execution_count": 25,
     "metadata": {},
     "output_type": "execute_result"
    }
   ],
   "source": [
    "model.predict(np.expand_dims(adv_x[testing_index], axis = 0))\n"
   ]
  }
 ],
 "metadata": {
  "kernelspec": {
   "display_name": "tf",
   "language": "python",
   "name": "python3"
  },
  "language_info": {
   "codemirror_mode": {
    "name": "ipython",
    "version": 3
   },
   "file_extension": ".py",
   "mimetype": "text/x-python",
   "name": "python",
   "nbconvert_exporter": "python",
   "pygments_lexer": "ipython3",
   "version": "3.9.16"
  },
  "orig_nbformat": 4,
  "vscode": {
   "interpreter": {
    "hash": "dd22f21e2d89e750d00fb9be80cd50a2c6106590d532aa9e9a39d5f18df7cbb5"
   }
  }
 },
 "nbformat": 4,
 "nbformat_minor": 2
}
