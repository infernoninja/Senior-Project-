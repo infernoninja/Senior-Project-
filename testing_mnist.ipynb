{
 "cells": [
  {
   "attachments": {},
   "cell_type": "markdown",
   "metadata": {},
   "source": [
    "# Testing the 3 Models against Benign and FGSM/PGD Perturbed Images; AutoAttack"
   ]
  },
  {
   "attachments": {},
   "cell_type": "markdown",
   "metadata": {},
   "source": [
    "## Imports and GPU Check"
   ]
  },
  {
   "cell_type": "code",
   "execution_count": 1,
   "metadata": {},
   "outputs": [],
   "source": [
    "#imports\n",
    "#Main Libraries\n",
    "import tensorflow as tf\n",
    "from tensorflow import keras\n",
    "from keras import datasets, layers, models\n",
    "import torch\n",
    "from autoattack import utils_tf2\n",
    "from autoattack import AutoAttack\n",
    "\n",
    "# #Helper Libraries (in order to interpret and view the data)\n",
    "import matplotlib.pyplot as plt\n",
    "import numpy as np"
   ]
  },
  {
   "cell_type": "code",
   "execution_count": 2,
   "metadata": {},
   "outputs": [
    {
     "name": "stdout",
     "output_type": "stream",
     "text": [
      "True\n"
     ]
    }
   ],
   "source": [
    "#Prints if a GPU is detected by the TensorFlow system\n",
    "print(len(tf.config.list_physical_devices('GPU')) > 0)"
   ]
  },
  {
   "attachments": {},
   "cell_type": "markdown",
   "metadata": {},
   "source": [
    "## Importing and Scaling the Data"
   ]
  },
  {
   "cell_type": "code",
   "execution_count": 3,
   "metadata": {},
   "outputs": [],
   "source": [
    "#importing the MNIST dataset from tensorflow\n",
    "from tensorflow.keras.datasets import mnist \n",
    "(X_train, Y_train), (X_test, Y_test) = mnist.load_data()"
   ]
  },
  {
   "cell_type": "code",
   "execution_count": 4,
   "metadata": {},
   "outputs": [],
   "source": [
    "#scaling the data from 0 to 1 as float (decimal) numbers\n",
    "X_train, X_test = X_train / 255.0, X_test / 255.0"
   ]
  },
  {
   "attachments": {},
   "cell_type": "markdown",
   "metadata": {},
   "source": [
    "## Model Loading"
   ]
  },
  {
   "cell_type": "code",
   "execution_count": 5,
   "metadata": {},
   "outputs": [],
   "source": [
    "#loading the model\n",
    "model = tf.keras.models.load_model('complete_saved_mnist_model')"
   ]
  },
  {
   "cell_type": "code",
   "execution_count": 6,
   "metadata": {},
   "outputs": [],
   "source": [
    "#loading the fgsm model\n",
    "fgsm_model = tf.keras.models.load_model('complete_saved_adv_mnist_model')"
   ]
  },
  {
   "cell_type": "code",
   "execution_count": 7,
   "metadata": {},
   "outputs": [],
   "source": [
    "#loading the pgd model\n",
    "pgd_model = tf.keras.models.load_model('complete_saved_adv_pgd_40_mnist_model')"
   ]
  },
  {
   "attachments": {},
   "cell_type": "markdown",
   "metadata": {},
   "source": [
    "## Attack Creation"
   ]
  },
  {
   "cell_type": "code",
   "execution_count": 8,
   "metadata": {},
   "outputs": [],
   "source": [
    "#Creating the adversarial attack for adversarial training\n",
    "loss_object = tf.keras.losses.SparseCategoricalCrossentropy()\n",
    "\n",
    "def create_adv(input_image, input_label, model_type = \"adv_model\"):\n",
    "  with tf.GradientTape() as tape:\n",
    "    tape.watch(input_image)\n",
    "    if(model_type == \"model\"):\n",
    "      prediction = model(input_image)\n",
    "    elif(model_type == \"fgsm_model\"):\n",
    "        prediction = fgsm_model(input_image)\n",
    "    else:\n",
    "      prediction = pgd_model(input_image)\n",
    "    loss = loss_object(input_label, prediction)\n",
    "\n",
    "  gradient = tape.gradient(loss, input_image)\n",
    "  signed_grad = tf.sign(gradient)\n",
    "  return signed_grad\n",
    "\n",
    "def fgsm(input_image, input_label, eps=0.25, model_type = \"adv_model\"):\n",
    "  perturbation = create_adv(input_image, input_label, model_type)\n",
    "  adv_image = input_image + perturbation * eps\n",
    "  adv_image = tf.clip_by_value(adv_image, 0, 1)\n",
    "\n",
    "  return adv_image\n",
    "\n",
    "def pgd(input_image, input_label, num_steps=100, eps=0.25, alpha=0.01, model_type = \"adv_model\"):\n",
    "  adv_image = input_image\n",
    "  for i in range(num_steps):\n",
    "    adv_image = fgsm(adv_image, input_label, alpha, model_type)\n",
    "    perturbation = adv_image - input_image\n",
    "    perturbation = tf.clip_by_value(perturbation, -eps, eps)\n",
    "    adv_image = input_image + perturbation\n",
    "  \n",
    "  return adv_image"
   ]
  },
  {
   "attachments": {},
   "cell_type": "markdown",
   "metadata": {},
   "source": [
    "## Testing the 3 models against benign, FGSM Perturbed, and PGD Perturbed Images"
   ]
  },
  {
   "attachments": {},
   "cell_type": "markdown",
   "metadata": {},
   "source": [
    "### Benign Test"
   ]
  },
  {
   "cell_type": "code",
   "execution_count": 9,
   "metadata": {},
   "outputs": [
    {
     "name": "stdout",
     "output_type": "stream",
     "text": [
      "313/313 [==============================] - 4s 4ms/step - loss: 0.0696 - accuracy: 0.9877\n"
     ]
    },
    {
     "data": {
      "text/plain": [
       "[0.06955765187740326, 0.9876999855041504]"
      ]
     },
     "execution_count": 9,
     "metadata": {},
     "output_type": "execute_result"
    }
   ],
   "source": [
    "#Base Model\n",
    "model.evaluate(X_test, Y_test)"
   ]
  },
  {
   "cell_type": "code",
   "execution_count": 10,
   "metadata": {},
   "outputs": [
    {
     "name": "stdout",
     "output_type": "stream",
     "text": [
      "313/313 [==============================] - 1s 3ms/step - loss: 0.0581 - accuracy: 0.9877\n"
     ]
    },
    {
     "data": {
      "text/plain": [
       "[0.05805297940969467, 0.9876999855041504]"
      ]
     },
     "execution_count": 10,
     "metadata": {},
     "output_type": "execute_result"
    }
   ],
   "source": [
    "#FGSM Model\n",
    "fgsm_model.evaluate(X_test, Y_test)"
   ]
  },
  {
   "cell_type": "code",
   "execution_count": 11,
   "metadata": {},
   "outputs": [
    {
     "name": "stdout",
     "output_type": "stream",
     "text": [
      "313/313 [==============================] - 1s 4ms/step - loss: 0.0631 - accuracy: 0.9796\n"
     ]
    },
    {
     "data": {
      "text/plain": [
       "[0.06305889785289764, 0.9796000123023987]"
      ]
     },
     "execution_count": 11,
     "metadata": {},
     "output_type": "execute_result"
    }
   ],
   "source": [
    "#PGD Model\n",
    "pgd_model.evaluate(X_test, Y_test)"
   ]
  },
  {
   "attachments": {},
   "cell_type": "markdown",
   "metadata": {},
   "source": [
    "### FGSM Test"
   ]
  },
  {
   "attachments": {},
   "cell_type": "markdown",
   "metadata": {},
   "source": [
    "Data Prep for a FGSM attack"
   ]
  },
  {
   "cell_type": "code",
   "execution_count": 12,
   "metadata": {},
   "outputs": [],
   "source": [
    "#Base Model\n",
    "fgsm_x = fgsm(tf.convert_to_tensor(X_test), Y_test, model_type = \"model\")\n",
    "#FGSM Model\n",
    "fgsm_x_fgsm = fgsm(tf.convert_to_tensor(X_test), Y_test, model_type = \"fgsm_model\") \n",
    "#PGD Model\n",
    "fgsm_x_pgd = fgsm(tf.convert_to_tensor(X_test), Y_test)"
   ]
  },
  {
   "attachments": {},
   "cell_type": "markdown",
   "metadata": {},
   "source": [
    "Testing"
   ]
  },
  {
   "cell_type": "code",
   "execution_count": 13,
   "metadata": {},
   "outputs": [
    {
     "name": "stdout",
     "output_type": "stream",
     "text": [
      "313/313 [==============================] - 1s 4ms/step - loss: 2.3462 - accuracy: 0.6555\n"
     ]
    },
    {
     "data": {
      "text/plain": [
       "[2.346208333969116, 0.6554999947547913]"
      ]
     },
     "execution_count": 13,
     "metadata": {},
     "output_type": "execute_result"
    }
   ],
   "source": [
    "#Base Model\n",
    "model.evaluate(fgsm_x, Y_test)"
   ]
  },
  {
   "cell_type": "code",
   "execution_count": 14,
   "metadata": {},
   "outputs": [
    {
     "name": "stdout",
     "output_type": "stream",
     "text": [
      "313/313 [==============================] - 1s 4ms/step - loss: 2.8949 - accuracy: 0.5767\n"
     ]
    },
    {
     "data": {
      "text/plain": [
       "[2.894890308380127, 0.57669997215271]"
      ]
     },
     "execution_count": 14,
     "metadata": {},
     "output_type": "execute_result"
    }
   ],
   "source": [
    "#FGSM Model\n",
    "fgsm_model.evaluate(fgsm_x_fgsm, Y_test)"
   ]
  },
  {
   "cell_type": "code",
   "execution_count": 15,
   "metadata": {},
   "outputs": [
    {
     "name": "stdout",
     "output_type": "stream",
     "text": [
      "313/313 [==============================] - 2s 5ms/step - loss: 0.2280 - accuracy: 0.9278\n"
     ]
    },
    {
     "data": {
      "text/plain": [
       "[0.22797919809818268, 0.9277999997138977]"
      ]
     },
     "execution_count": 15,
     "metadata": {},
     "output_type": "execute_result"
    }
   ],
   "source": [
    "#PGD Model\n",
    "pgd_model.evaluate(fgsm_x_pgd, Y_test)"
   ]
  },
  {
   "attachments": {},
   "cell_type": "markdown",
   "metadata": {},
   "source": [
    "### PGD Test"
   ]
  },
  {
   "attachments": {},
   "cell_type": "markdown",
   "metadata": {},
   "source": [
    "Data Prep for a PGD attack"
   ]
  },
  {
   "cell_type": "code",
   "execution_count": 16,
   "metadata": {},
   "outputs": [],
   "source": [
    "#Base Model\n",
    "pgd_x = pgd(tf.convert_to_tensor(X_test), Y_test, model_type = \"model\")\n",
    "#FGSM Model\n",
    "pgd_x_fgsm = pgd(tf.convert_to_tensor(X_test), Y_test, model_type = \"fgsm_model\") \n",
    "#PGD Model\n",
    "pgd_x_pgd = pgd(tf.convert_to_tensor(X_test), Y_test)"
   ]
  },
  {
   "cell_type": "code",
   "execution_count": 17,
   "metadata": {},
   "outputs": [
    {
     "name": "stdout",
     "output_type": "stream",
     "text": [
      "313/313 [==============================] - 1s 4ms/step - loss: 24.4492 - accuracy: 0.0031\n"
     ]
    },
    {
     "data": {
      "text/plain": [
       "[24.44923973083496, 0.003100000089034438]"
      ]
     },
     "execution_count": 17,
     "metadata": {},
     "output_type": "execute_result"
    }
   ],
   "source": [
    "#Base Model\n",
    "model.evaluate(pgd_x, Y_test)"
   ]
  },
  {
   "cell_type": "code",
   "execution_count": 18,
   "metadata": {},
   "outputs": [
    {
     "name": "stdout",
     "output_type": "stream",
     "text": [
      "313/313 [==============================] - 1s 4ms/step - loss: 33.1252 - accuracy: 0.0072\n"
     ]
    },
    {
     "data": {
      "text/plain": [
       "[33.12518310546875, 0.007199999876320362]"
      ]
     },
     "execution_count": 18,
     "metadata": {},
     "output_type": "execute_result"
    }
   ],
   "source": [
    "#FGSM Model\n",
    "fgsm_model.evaluate(pgd_x_fgsm, Y_test)"
   ]
  },
  {
   "cell_type": "code",
   "execution_count": 19,
   "metadata": {},
   "outputs": [
    {
     "name": "stdout",
     "output_type": "stream",
     "text": [
      "313/313 [==============================] - 1s 4ms/step - loss: 0.4032 - accuracy: 0.8668\n"
     ]
    },
    {
     "data": {
      "text/plain": [
       "[0.40323835611343384, 0.8668000102043152]"
      ]
     },
     "execution_count": 19,
     "metadata": {},
     "output_type": "execute_result"
    }
   ],
   "source": [
    "#PGD Model\n",
    "pgd_model.evaluate(pgd_x_pgd, Y_test)"
   ]
  },
  {
   "attachments": {},
   "cell_type": "markdown",
   "metadata": {},
   "source": [
    "## AutoAttack"
   ]
  },
  {
   "attachments": {},
   "cell_type": "markdown",
   "metadata": {},
   "source": [
    "Data Preperation - converting np arrays to PyTorch Tensors"
   ]
  },
  {
   "cell_type": "code",
   "execution_count": null,
   "metadata": {},
   "outputs": [],
   "source": [
    "X_test = np.expand_dims(X_test, axis = 3)\n",
    "torch_testX = torch.from_numpy(np.transpose((X_test), (0,3,1,2))).float().cuda()\n",
    "torch_testY = torch.from_numpy( Y_test ).long().cuda()"
   ]
  },
  {
   "attachments": {},
   "cell_type": "markdown",
   "metadata": {},
   "source": [
    "### Base Model"
   ]
  },
  {
   "cell_type": "code",
   "execution_count": 20,
   "metadata": {},
   "outputs": [
    {
     "name": "stdout",
     "output_type": "stream",
     "text": [
      "[INFO] set data_format = 'channels_last'\n",
      "setting parameters for standard version\n",
      "using standard version including apgd-ce, apgd-t, fab-t, square.\n",
      "Warning: it seems that the output is a probability distribution, please be sure that the logits are used! See flags_doc.md for details.\n",
      "Warning: the check for dynamic defenses is not currently supported\n",
      "initial accuracy: 98.77%\n",
      "apgd-ce - 1/50 - 200 out of 200 successfully perturbed\n",
      "apgd-ce - 2/50 - 200 out of 200 successfully perturbed\n",
      "apgd-ce - 3/50 - 200 out of 200 successfully perturbed\n",
      "apgd-ce - 4/50 - 200 out of 200 successfully perturbed\n",
      "apgd-ce - 5/50 - 200 out of 200 successfully perturbed\n",
      "apgd-ce - 6/50 - 200 out of 200 successfully perturbed\n",
      "apgd-ce - 7/50 - 200 out of 200 successfully perturbed\n",
      "apgd-ce - 8/50 - 200 out of 200 successfully perturbed\n",
      "apgd-ce - 9/50 - 200 out of 200 successfully perturbed\n",
      "apgd-ce - 10/50 - 200 out of 200 successfully perturbed\n",
      "apgd-ce - 11/50 - 200 out of 200 successfully perturbed\n",
      "apgd-ce - 12/50 - 200 out of 200 successfully perturbed\n",
      "apgd-ce - 13/50 - 200 out of 200 successfully perturbed\n",
      "apgd-ce - 14/50 - 200 out of 200 successfully perturbed\n",
      "apgd-ce - 15/50 - 200 out of 200 successfully perturbed\n",
      "apgd-ce - 16/50 - 200 out of 200 successfully perturbed\n",
      "apgd-ce - 17/50 - 200 out of 200 successfully perturbed\n",
      "apgd-ce - 18/50 - 200 out of 200 successfully perturbed\n",
      "apgd-ce - 19/50 - 200 out of 200 successfully perturbed\n",
      "apgd-ce - 20/50 - 200 out of 200 successfully perturbed\n",
      "apgd-ce - 21/50 - 200 out of 200 successfully perturbed\n",
      "apgd-ce - 22/50 - 200 out of 200 successfully perturbed\n",
      "apgd-ce - 23/50 - 200 out of 200 successfully perturbed\n",
      "apgd-ce - 24/50 - 200 out of 200 successfully perturbed\n",
      "apgd-ce - 25/50 - 200 out of 200 successfully perturbed\n",
      "apgd-ce - 26/50 - 200 out of 200 successfully perturbed\n",
      "apgd-ce - 27/50 - 200 out of 200 successfully perturbed\n",
      "apgd-ce - 28/50 - 200 out of 200 successfully perturbed\n",
      "apgd-ce - 29/50 - 200 out of 200 successfully perturbed\n",
      "apgd-ce - 30/50 - 200 out of 200 successfully perturbed\n",
      "apgd-ce - 31/50 - 200 out of 200 successfully perturbed\n",
      "apgd-ce - 32/50 - 200 out of 200 successfully perturbed\n",
      "apgd-ce - 33/50 - 200 out of 200 successfully perturbed\n",
      "apgd-ce - 34/50 - 200 out of 200 successfully perturbed\n",
      "apgd-ce - 35/50 - 200 out of 200 successfully perturbed\n",
      "apgd-ce - 36/50 - 200 out of 200 successfully perturbed\n",
      "apgd-ce - 37/50 - 200 out of 200 successfully perturbed\n",
      "apgd-ce - 38/50 - 200 out of 200 successfully perturbed\n",
      "apgd-ce - 39/50 - 200 out of 200 successfully perturbed\n",
      "apgd-ce - 40/50 - 200 out of 200 successfully perturbed\n",
      "apgd-ce - 41/50 - 200 out of 200 successfully perturbed\n",
      "apgd-ce - 42/50 - 200 out of 200 successfully perturbed\n",
      "apgd-ce - 43/50 - 200 out of 200 successfully perturbed\n",
      "apgd-ce - 44/50 - 200 out of 200 successfully perturbed\n",
      "apgd-ce - 45/50 - 200 out of 200 successfully perturbed\n",
      "apgd-ce - 46/50 - 200 out of 200 successfully perturbed\n",
      "apgd-ce - 47/50 - 200 out of 200 successfully perturbed\n",
      "apgd-ce - 48/50 - 200 out of 200 successfully perturbed\n",
      "apgd-ce - 49/50 - 200 out of 200 successfully perturbed\n",
      "apgd-ce - 50/50 - 77 out of 77 successfully perturbed\n",
      "robust accuracy after APGD-CE: 0.00% (total time 41.1 s)\n",
      "max Linf perturbation: 0.30000, nan in tensor: 0, max: 1.00000, min: 0.00000\n",
      "robust accuracy: 0.00%\n"
     ]
    }
   ],
   "source": [
    "model_adapted = utils_tf2.ModelAdapter(model)\n",
    "adversary = AutoAttack(model_adapted, norm='Linf', eps= 0.3, version='standard', is_tf_model=True)\n",
    "x_adv = adversary.run_standard_evaluation(torch_testX, torch_testY, bs = 200)"
   ]
  },
  {
   "attachments": {},
   "cell_type": "markdown",
   "metadata": {},
   "source": [
    "### FGSM Model"
   ]
  },
  {
   "cell_type": "code",
   "execution_count": 21,
   "metadata": {},
   "outputs": [
    {
     "name": "stdout",
     "output_type": "stream",
     "text": [
      "[INFO] set data_format = 'channels_last'\n",
      "setting parameters for standard version\n",
      "using standard version including apgd-ce, apgd-t, fab-t, square.\n",
      "Warning: it seems that the output is a probability distribution, please be sure that the logits are used! See flags_doc.md for details.\n",
      "Warning: the check for dynamic defenses is not currently supported\n",
      "initial accuracy: 98.77%\n",
      "apgd-ce - 1/50 - 200 out of 200 successfully perturbed\n",
      "apgd-ce - 2/50 - 200 out of 200 successfully perturbed\n",
      "apgd-ce - 3/50 - 200 out of 200 successfully perturbed\n",
      "apgd-ce - 4/50 - 200 out of 200 successfully perturbed\n",
      "apgd-ce - 5/50 - 200 out of 200 successfully perturbed\n",
      "apgd-ce - 6/50 - 200 out of 200 successfully perturbed\n",
      "apgd-ce - 7/50 - 200 out of 200 successfully perturbed\n",
      "apgd-ce - 8/50 - 200 out of 200 successfully perturbed\n",
      "apgd-ce - 9/50 - 200 out of 200 successfully perturbed\n",
      "apgd-ce - 10/50 - 200 out of 200 successfully perturbed\n",
      "apgd-ce - 11/50 - 200 out of 200 successfully perturbed\n",
      "apgd-ce - 12/50 - 200 out of 200 successfully perturbed\n",
      "apgd-ce - 13/50 - 200 out of 200 successfully perturbed\n",
      "apgd-ce - 14/50 - 200 out of 200 successfully perturbed\n",
      "apgd-ce - 15/50 - 200 out of 200 successfully perturbed\n",
      "apgd-ce - 16/50 - 200 out of 200 successfully perturbed\n",
      "apgd-ce - 17/50 - 200 out of 200 successfully perturbed\n",
      "apgd-ce - 18/50 - 200 out of 200 successfully perturbed\n",
      "apgd-ce - 19/50 - 200 out of 200 successfully perturbed\n",
      "apgd-ce - 20/50 - 200 out of 200 successfully perturbed\n",
      "apgd-ce - 21/50 - 200 out of 200 successfully perturbed\n",
      "apgd-ce - 22/50 - 200 out of 200 successfully perturbed\n",
      "apgd-ce - 23/50 - 200 out of 200 successfully perturbed\n",
      "apgd-ce - 24/50 - 200 out of 200 successfully perturbed\n",
      "apgd-ce - 25/50 - 200 out of 200 successfully perturbed\n",
      "apgd-ce - 26/50 - 200 out of 200 successfully perturbed\n",
      "apgd-ce - 27/50 - 200 out of 200 successfully perturbed\n",
      "apgd-ce - 28/50 - 200 out of 200 successfully perturbed\n",
      "apgd-ce - 29/50 - 200 out of 200 successfully perturbed\n",
      "apgd-ce - 30/50 - 200 out of 200 successfully perturbed\n",
      "apgd-ce - 31/50 - 200 out of 200 successfully perturbed\n",
      "apgd-ce - 32/50 - 200 out of 200 successfully perturbed\n",
      "apgd-ce - 33/50 - 200 out of 200 successfully perturbed\n",
      "apgd-ce - 34/50 - 200 out of 200 successfully perturbed\n",
      "apgd-ce - 35/50 - 200 out of 200 successfully perturbed\n",
      "apgd-ce - 36/50 - 200 out of 200 successfully perturbed\n",
      "apgd-ce - 37/50 - 200 out of 200 successfully perturbed\n",
      "apgd-ce - 38/50 - 200 out of 200 successfully perturbed\n",
      "apgd-ce - 39/50 - 200 out of 200 successfully perturbed\n",
      "apgd-ce - 40/50 - 200 out of 200 successfully perturbed\n",
      "apgd-ce - 41/50 - 200 out of 200 successfully perturbed\n",
      "apgd-ce - 42/50 - 200 out of 200 successfully perturbed\n",
      "apgd-ce - 43/50 - 200 out of 200 successfully perturbed\n",
      "apgd-ce - 44/50 - 200 out of 200 successfully perturbed\n",
      "apgd-ce - 45/50 - 200 out of 200 successfully perturbed\n",
      "apgd-ce - 46/50 - 200 out of 200 successfully perturbed\n",
      "apgd-ce - 47/50 - 200 out of 200 successfully perturbed\n",
      "apgd-ce - 48/50 - 200 out of 200 successfully perturbed\n",
      "apgd-ce - 49/50 - 200 out of 200 successfully perturbed\n",
      "apgd-ce - 50/50 - 77 out of 77 successfully perturbed\n",
      "robust accuracy after APGD-CE: 0.00% (total time 42.0 s)\n",
      "max Linf perturbation: 0.30000, nan in tensor: 0, max: 1.00000, min: 0.00000\n",
      "robust accuracy: 0.00%\n"
     ]
    }
   ],
   "source": [
    "model_adapted = utils_tf2.ModelAdapter(fgsm_model)\n",
    "adversary = AutoAttack(model_adapted, norm='Linf', eps= 0.3, version='standard', is_tf_model=True)\n",
    "x_adv = adversary.run_standard_evaluation(torch_testX, torch_testY, bs = 200)"
   ]
  },
  {
   "attachments": {},
   "cell_type": "markdown",
   "metadata": {},
   "source": [
    "### PGD Model"
   ]
  },
  {
   "cell_type": "code",
   "execution_count": null,
   "metadata": {},
   "outputs": [
    {
     "name": "stdout",
     "output_type": "stream",
     "text": [
      "using standard version including apgd-ce, apgd-t, fab-t, square.\n",
      "Warning: it seems that the output is a probability distribution, please be sure that the logits are used! See flags_doc.md for details.\n",
      "Warning: the check for dynamic defenses is not currently supported\n",
      "initial accuracy: 97.96%\n",
      "apgd-ce - 1/49 - 41 out of 200 successfully perturbed\n",
      "apgd-ce - 2/49 - 48 out of 200 successfully perturbed\n",
      "apgd-ce - 3/49 - 50 out of 200 successfully perturbed\n",
      "apgd-ce - 4/49 - 43 out of 200 successfully perturbed\n",
      "apgd-ce - 5/49 - 49 out of 200 successfully perturbed\n",
      "apgd-ce - 6/49 - 50 out of 200 successfully perturbed\n",
      "apgd-ce - 7/49 - 58 out of 200 successfully perturbed\n",
      "apgd-ce - 8/49 - 61 out of 200 successfully perturbed\n",
      "apgd-ce - 9/49 - 50 out of 200 successfully perturbed\n",
      "apgd-ce - 10/49 - 55 out of 200 successfully perturbed\n",
      "apgd-ce - 11/49 - 46 out of 200 successfully perturbed\n",
      "apgd-ce - 12/49 - 55 out of 200 successfully perturbed\n",
      "apgd-ce - 13/49 - 50 out of 200 successfully perturbed\n",
      "apgd-ce - 14/49 - 57 out of 200 successfully perturbed\n",
      "apgd-ce - 15/49 - 47 out of 200 successfully perturbed\n",
      "apgd-ce - 16/49 - 49 out of 200 successfully perturbed\n",
      "apgd-ce - 17/49 - 52 out of 200 successfully perturbed\n",
      "apgd-ce - 18/49 - 49 out of 200 successfully perturbed\n",
      "apgd-ce - 19/49 - 58 out of 200 successfully perturbed\n",
      "apgd-ce - 20/49 - 53 out of 200 successfully perturbed\n",
      "apgd-ce - 21/49 - 62 out of 200 successfully perturbed\n",
      "apgd-ce - 22/49 - 56 out of 200 successfully perturbed\n",
      "apgd-ce - 23/49 - 44 out of 200 successfully perturbed\n",
      "apgd-ce - 24/49 - 49 out of 200 successfully perturbed\n",
      "apgd-ce - 25/49 - 35 out of 200 successfully perturbed\n",
      "apgd-ce - 26/49 - 31 out of 200 successfully perturbed\n",
      "apgd-ce - 27/49 - 21 out of 200 successfully perturbed\n",
      "apgd-ce - 28/49 - 52 out of 200 successfully perturbed\n",
      "apgd-ce - 29/49 - 32 out of 200 successfully perturbed\n",
      "apgd-ce - 30/49 - 45 out of 200 successfully perturbed\n",
      "apgd-ce - 31/49 - 10 out of 200 successfully perturbed\n",
      "apgd-ce - 32/49 - 34 out of 200 successfully perturbed\n",
      "apgd-ce - 33/49 - 60 out of 200 successfully perturbed\n",
      "apgd-ce - 34/49 - 29 out of 200 successfully perturbed\n",
      "apgd-ce - 35/49 - 22 out of 200 successfully perturbed\n",
      "apgd-ce - 36/49 - 44 out of 200 successfully perturbed\n",
      "apgd-ce - 37/49 - 43 out of 200 successfully perturbed\n",
      "apgd-ce - 38/49 - 28 out of 200 successfully perturbed\n",
      "apgd-ce - 39/49 - 63 out of 200 successfully perturbed\n",
      "apgd-ce - 40/49 - 45 out of 200 successfully perturbed\n",
      "apgd-ce - 41/49 - 59 out of 200 successfully perturbed\n",
      "apgd-ce - 42/49 - 39 out of 200 successfully perturbed\n",
      "apgd-ce - 43/49 - 19 out of 200 successfully perturbed\n",
      "apgd-ce - 44/49 - 15 out of 200 successfully perturbed\n",
      "apgd-ce - 45/49 - 33 out of 200 successfully perturbed\n",
      "apgd-ce - 46/49 - 26 out of 200 successfully perturbed\n",
      "apgd-ce - 47/49 - 31 out of 200 successfully perturbed\n",
      "apgd-ce - 48/49 - 68 out of 200 successfully perturbed\n",
      "apgd-ce - 49/49 - 54 out of 196 successfully perturbed\n",
      "robust accuracy after APGD-CE: 76.26% (total time 43.3 s)\n",
      "apgd-t - 1/39 - 6 out of 200 successfully perturbed\n",
      "apgd-t - 2/39 - 5 out of 200 successfully perturbed\n",
      "apgd-t - 3/39 - 2 out of 200 successfully perturbed\n",
      "apgd-t - 4/39 - 7 out of 200 successfully perturbed\n",
      "apgd-t - 5/39 - 4 out of 200 successfully perturbed\n",
      "apgd-t - 6/39 - 7 out of 200 successfully perturbed\n",
      "apgd-t - 7/39 - 2 out of 200 successfully perturbed\n",
      "apgd-t - 8/39 - 5 out of 200 successfully perturbed\n",
      "apgd-t - 9/39 - 6 out of 200 successfully perturbed\n",
      "apgd-t - 10/39 - 5 out of 200 successfully perturbed\n",
      "apgd-t - 11/39 - 5 out of 200 successfully perturbed\n",
      "apgd-t - 12/39 - 4 out of 200 successfully perturbed\n",
      "apgd-t - 13/39 - 5 out of 200 successfully perturbed\n",
      "apgd-t - 14/39 - 4 out of 200 successfully perturbed\n",
      "apgd-t - 15/39 - 8 out of 200 successfully perturbed\n",
      "apgd-t - 16/39 - 6 out of 200 successfully perturbed\n",
      "apgd-t - 17/39 - 6 out of 200 successfully perturbed\n",
      "apgd-t - 18/39 - 4 out of 200 successfully perturbed\n",
      "apgd-t - 19/39 - 5 out of 200 successfully perturbed\n",
      "apgd-t - 20/39 - 3 out of 200 successfully perturbed\n",
      "apgd-t - 21/39 - 5 out of 200 successfully perturbed\n",
      "apgd-t - 22/39 - 2 out of 200 successfully perturbed\n",
      "apgd-t - 23/39 - 5 out of 200 successfully perturbed\n",
      "apgd-t - 24/39 - 1 out of 200 successfully perturbed\n",
      "apgd-t - 25/39 - 6 out of 200 successfully perturbed\n",
      "apgd-t - 26/39 - 2 out of 200 successfully perturbed\n",
      "apgd-t - 27/39 - 5 out of 200 successfully perturbed\n",
      "apgd-t - 28/39 - 4 out of 200 successfully perturbed\n",
      "apgd-t - 29/39 - 3 out of 200 successfully perturbed\n",
      "apgd-t - 30/39 - 5 out of 200 successfully perturbed\n",
      "apgd-t - 31/39 - 2 out of 200 successfully perturbed\n",
      "apgd-t - 32/39 - 7 out of 200 successfully perturbed\n",
      "apgd-t - 33/39 - 2 out of 200 successfully perturbed\n",
      "apgd-t - 34/39 - 0 out of 200 successfully perturbed\n",
      "apgd-t - 35/39 - 6 out of 200 successfully perturbed\n",
      "apgd-t - 36/39 - 4 out of 200 successfully perturbed\n",
      "apgd-t - 37/39 - 4 out of 200 successfully perturbed\n",
      "apgd-t - 38/39 - 9 out of 200 successfully perturbed\n",
      "apgd-t - 39/39 - 1 out of 26 successfully perturbed\n",
      "robust accuracy after APGD-T: 74.54% (total time 391.0 s)\n",
      "fab-t - 1/38 - 0 out of 200 successfully perturbed\n",
      "fab-t - 2/38 - 0 out of 200 successfully perturbed\n",
      "fab-t - 3/38 - 1 out of 200 successfully perturbed\n",
      "fab-t - 4/38 - 0 out of 200 successfully perturbed\n",
      "fab-t - 5/38 - 0 out of 200 successfully perturbed\n",
      "fab-t - 6/38 - 1 out of 200 successfully perturbed\n",
      "fab-t - 7/38 - 1 out of 200 successfully perturbed\n",
      "fab-t - 8/38 - 0 out of 200 successfully perturbed\n",
      "fab-t - 9/38 - 0 out of 200 successfully perturbed\n",
      "fab-t - 10/38 - 0 out of 200 successfully perturbed\n",
      "fab-t - 11/38 - 0 out of 200 successfully perturbed\n",
      "fab-t - 12/38 - 0 out of 200 successfully perturbed\n",
      "fab-t - 13/38 - 0 out of 200 successfully perturbed\n",
      "fab-t - 14/38 - 1 out of 200 successfully perturbed\n",
      "fab-t - 15/38 - 0 out of 200 successfully perturbed\n",
      "fab-t - 16/38 - 0 out of 200 successfully perturbed\n",
      "fab-t - 17/38 - 0 out of 200 successfully perturbed\n",
      "fab-t - 18/38 - 0 out of 200 successfully perturbed\n",
      "fab-t - 19/38 - 1 out of 200 successfully perturbed\n",
      "fab-t - 20/38 - 0 out of 200 successfully perturbed\n",
      "fab-t - 21/38 - 0 out of 200 successfully perturbed\n",
      "fab-t - 22/38 - 0 out of 200 successfully perturbed\n",
      "fab-t - 23/38 - 0 out of 200 successfully perturbed\n",
      "fab-t - 24/38 - 0 out of 200 successfully perturbed\n",
      "fab-t - 25/38 - 2 out of 200 successfully perturbed\n",
      "fab-t - 26/38 - 0 out of 200 successfully perturbed\n",
      "fab-t - 27/38 - 0 out of 200 successfully perturbed\n",
      "fab-t - 28/38 - 2 out of 200 successfully perturbed\n",
      "fab-t - 29/38 - 1 out of 200 successfully perturbed\n",
      "fab-t - 30/38 - 0 out of 200 successfully perturbed\n",
      "fab-t - 31/38 - 0 out of 200 successfully perturbed\n",
      "fab-t - 32/38 - 0 out of 200 successfully perturbed\n",
      "fab-t - 33/38 - 0 out of 200 successfully perturbed\n",
      "fab-t - 34/38 - 0 out of 200 successfully perturbed\n",
      "fab-t - 35/38 - 0 out of 200 successfully perturbed\n",
      "fab-t - 36/38 - 1 out of 200 successfully perturbed\n",
      "fab-t - 37/38 - 0 out of 200 successfully perturbed\n",
      "fab-t - 38/38 - 0 out of 54 successfully perturbed\n",
      "robust accuracy after FAB-T: 74.43% (total time 1253.3 s)\n",
      "square - 1/38 - 3 out of 200 successfully perturbed\n",
      "square - 2/38 - 3 out of 200 successfully perturbed\n",
      "square - 3/38 - 2 out of 200 successfully perturbed\n",
      "square - 4/38 - 2 out of 200 successfully perturbed\n",
      "square - 5/38 - 2 out of 200 successfully perturbed\n",
      "square - 6/38 - 4 out of 200 successfully perturbed\n",
      "square - 7/38 - 6 out of 200 successfully perturbed\n",
      "square - 8/38 - 4 out of 200 successfully perturbed\n",
      "square - 9/38 - 5 out of 200 successfully perturbed\n",
      "square - 10/38 - 4 out of 200 successfully perturbed\n",
      "square - 11/38 - 5 out of 200 successfully perturbed\n",
      "square - 12/38 - 2 out of 200 successfully perturbed\n",
      "square - 13/38 - 2 out of 200 successfully perturbed\n",
      "square - 14/38 - 1 out of 200 successfully perturbed\n",
      "square - 15/38 - 1 out of 200 successfully perturbed\n",
      "square - 16/38 - 2 out of 200 successfully perturbed\n",
      "square - 17/38 - 4 out of 200 successfully perturbed\n",
      "square - 18/38 - 0 out of 200 successfully perturbed\n",
      "square - 19/38 - 3 out of 200 successfully perturbed\n",
      "square - 20/38 - 2 out of 200 successfully perturbed\n",
      "square - 21/38 - 2 out of 200 successfully perturbed\n",
      "square - 22/38 - 4 out of 200 successfully perturbed\n",
      "square - 23/38 - 0 out of 200 successfully perturbed\n",
      "square - 24/38 - 1 out of 200 successfully perturbed\n",
      "square - 25/38 - 5 out of 200 successfully perturbed\n",
      "square - 26/38 - 0 out of 200 successfully perturbed\n",
      "square - 27/38 - 2 out of 200 successfully perturbed\n",
      "square - 28/38 - 3 out of 200 successfully perturbed\n",
      "square - 29/38 - 2 out of 200 successfully perturbed\n",
      "square - 30/38 - 2 out of 200 successfully perturbed\n",
      "square - 31/38 - 2 out of 200 successfully perturbed\n",
      "square - 32/38 - 3 out of 200 successfully perturbed\n",
      "square - 33/38 - 0 out of 200 successfully perturbed\n",
      "square - 34/38 - 1 out of 200 successfully perturbed\n",
      "square - 35/38 - 2 out of 200 successfully perturbed\n",
      "square - 36/38 - 0 out of 200 successfully perturbed\n",
      "square - 37/38 - 4 out of 200 successfully perturbed\n",
      "square - 38/38 - 1 out of 43 successfully perturbed\n",
      "robust accuracy after SQUARE: 73.52% (total time 3015.1 s)\n",
      "Warning: Square Attack has decreased the robust accuracy of 0.91%. This might indicate that the robustness evaluation using AutoAttack is unreliable. Consider running Square Attack with more iterations and restarts or an adaptive attack. See flags_doc.md for details.\n",
      "max Linf perturbation: 0.30000, nan in tensor: 0, max: 1.00000, min: 0.00000\n",
      "robust accuracy: 73.52%\n"
     ]
    }
   ],
   "source": [
    "model_adapted = utils_tf2.ModelAdapter(pgd_model)\n",
    "adversary = AutoAttack(model_adapted, norm='Linf', eps= 0.3, version='standard', is_tf_model=True)\n",
    "x_adv = adversary.run_standard_evaluation(torch_testX, torch_testY, bs = 200)"
   ]
  }
 ],
 "metadata": {
  "kernelspec": {
   "display_name": "tf",
   "language": "python",
   "name": "python3"
  },
  "language_info": {
   "codemirror_mode": {
    "name": "ipython",
    "version": 3
   },
   "file_extension": ".py",
   "mimetype": "text/x-python",
   "name": "python",
   "nbconvert_exporter": "python",
   "pygments_lexer": "ipython3",
   "version": "3.9.16"
  },
  "orig_nbformat": 4
 },
 "nbformat": 4,
 "nbformat_minor": 2
}
